{
 "cells": [
  {
   "cell_type": "markdown",
   "id": "1775b4f4-616f-45f2-9bf5-a38b451a3d35",
   "metadata": {},
   "source": [
    "# Code for getting data from Twint."
   ]
  },
  {
   "cell_type": "code",
   "execution_count": 1,
   "id": "59a807e0-6ac3-463e-9a65-9ee1d2936f1d",
   "metadata": {},
   "outputs": [],
   "source": [
    "import twint\n",
    "import nest_asyncio\n",
    "nest_asyncio.apply()\n",
    "import pandas as pd\n",
    "from pathlib import Path\n",
    "import time"
   ]
  },
  {
   "cell_type": "code",
   "execution_count": 2,
   "id": "5dcf705c-5847-4872-be0f-ef0f41c8a095",
   "metadata": {},
   "outputs": [],
   "source": [
    "def get_tweets_loop(start_date, end_date, iteration, username):\n",
    "    while end_date > start_date:\n",
    "\n",
    "        output_variable = \"tweetLoop_\" + str(iteration) + \".csv\"\n",
    "        c = twint.Config()\n",
    "        c.Lang = \"en\"\n",
    "        c.Username = username\n",
    "        c.Since = start_date\n",
    "        c.Until= end_date\n",
    "        c.Store_csv = True\n",
    "        c.Output = output_variable\n",
    "\n",
    "        # Run\n",
    "        twint.run.Search(c)\n",
    "    \n",
    "        try:\n",
    "            time.sleep(15)\n",
    "            # Read in the CSV just made & get the last date in the csv:\n",
    "            loop_tweets_df = pd.read_csv(output_variable)\n",
    "            end_date = loop_tweets_df.iloc[-1]['date']\n",
    "            print(f'It worked. Display for {output_variable} below. End date = {end_date}.')\n",
    "            # Show the top rows of the dataframe\n",
    "            display(loop_tweets_df.head(3))\n",
    "            iteration += 1\n",
    "\n",
    "        except Exception as ex:\n",
    "            print(ex)"
   ]
  },
  {
   "cell_type": "markdown",
   "id": "e77f2799-3c7a-40c6-98f1-132431c6deb1",
   "metadata": {},
   "source": [
    "---"
   ]
  },
  {
   "cell_type": "markdown",
   "id": "08fb9760-5f7a-4069-83c4-344308a55cc7",
   "metadata": {},
   "source": [
    "## Getting Tweet data for Elon Musk:"
   ]
  },
  {
   "cell_type": "code",
   "execution_count": null,
   "id": "31c8a9af-ebd4-478f-8fbb-2642bbc7c460",
   "metadata": {},
   "outputs": [],
   "source": [
    "get_tweets_loop(start_date='2020-10-06', end_date='2021-10-06', iteration=1, username=\"elonmusk\")"
   ]
  }
 ],
 "metadata": {
  "kernelspec": {
   "display_name": "Python [conda env:nlpenv]",
   "language": "python",
   "name": "conda-env-nlpenv-py"
  },
  "language_info": {
   "codemirror_mode": {
    "name": "ipython",
    "version": 3
   },
   "file_extension": ".py",
   "mimetype": "text/x-python",
   "name": "python",
   "nbconvert_exporter": "python",
   "pygments_lexer": "ipython3",
   "version": "3.7.10"
  }
 },
 "nbformat": 4,
 "nbformat_minor": 5
}
