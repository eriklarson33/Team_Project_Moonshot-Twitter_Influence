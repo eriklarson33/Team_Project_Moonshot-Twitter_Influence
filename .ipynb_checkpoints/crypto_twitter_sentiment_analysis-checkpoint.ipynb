{
 "cells": [
  {
   "cell_type": "code",
   "execution_count": 1,
   "id": "f8a12680",
   "metadata": {},
   "outputs": [],
   "source": [
    "# Import twint and nest asyncio in order to scrape tweets based on specific search criteria\n",
    "import twint\n",
    "import nest_asyncio"
   ]
  },
  {
   "cell_type": "code",
   "execution_count": 2,
   "id": "2e1a50d6",
   "metadata": {},
   "outputs": [],
   "source": [
    "# Run nest asyncio to enable concurrent actions and avoid runtime error\n",
    "nest_asyncio.apply()"
   ]
  },
  {
   "cell_type": "code",
   "execution_count": 7,
   "id": "dab84420",
   "metadata": {},
   "outputs": [
    {
     "name": "stdout",
     "output_type": "stream",
     "text": [
      "1393673151691755521 2021-05-15 16:02:27 -0500 <mcuban> @ANANDDB I never was anti crypto. Ive owned it for years. What I said was that btc had little utility other than as a store of value. What am I talking about now? Utility. And I don’t shill anything.  I said doge was better than a lottery ticket. Then people started using it to buy things\n",
      "1392611938983632896 2021-05-12 17:45:34 -0500 <mcuban> We at  https://t.co/VUydpLFzGh will continue to accept BTC/Eth/Doge because we know that replacing Gold as a store of value will help the environment   https://t.co/bs7NvnJY8A and   https://t.co/ELhbuLOBRV shrinking big bank and coin usage will benefit society and the environment\n",
      "1389006710795296769 2021-05-02 18:59:41 -0500 <mcuban> @spindel5 I still don't like btc as a currency. That's always been the issue.  And people aren't using it as currency. No one really buys anything with it. Would you spend your btc ?\n",
      "1389004112654655489 2021-05-02 18:49:21 -0500 <mcuban> Crypto succeeds when it's a more productive implementation of it's competition. BTC/Gold are both financial religions. BTC is easy to trade/store/create with no delivery issues. BTC also enables transfer of value locally and globally . Gold is a hassle. Just look at Ft Knox\n",
      "1387861184976760834 2021-04-29 15:07:46 -0500 <mcuban> Great. But you will put the $1m into a smart contract and we will take feeds for your stocks and my choice of half eth/btc and the winner's charity gets paid in 10 years, right ?  I'm not taking anybody's word that they will pay up in 10 yrs.  Sorry.\n",
      "1387778236093014016 2021-04-29 09:38:09 -0500 <mcuban> How about this. We set up a ln eth smart contract. You put in $1m in a stablecoin. I put up $1m in a stablecoin. We write the contract to pay you if the increase in the S&amp;P 500 is higher at the end date than the increase in YOUR choice of BTC or ETH. You can pick the custodian\n",
      "1387766099761061889 2021-04-29 08:49:56 -0500 <mcuban> @PeterMallouk Yup. All in on Netflix and Amazon. Sold most of my other stocks I bought in March. Hedged interest rate risk. Told everyone that my stock buying thesis is to buy companies great at AI. Used some cash to buy more btc, eth, MKR Holding some cash for next downturn. Rinse/Repeat\n",
      "1387432242197139464 2021-04-28 10:43:18 -0500 <mcuban> If you look at crypto assets whether eth, doge, btc,mkr etc and only see something intangible  for people to trade, you haven't really looked. If you see smart contracts and programming languages and  think of new ways to disrupt industries then I'm saying there's a chance\n",
      "1387277151683100672 2021-04-28 00:27:01 -0500 <mcuban> @CoinDesk @TheEllenShow This is exactly why people will buy physical products with doge coin and not with btc and rarely with eth.   It’s hard for someone with $100 to get excited about owning a fraction of btc or eth.  It’s easy with doge. When it appreciates that makes those items easy 2 buy\n",
      "1386052796294651906 2021-04-24 15:21:52 -0500 <mcuban> @merket @jakeudell @chamath And my 2014 position on btc was as right then as it is now. It’s a store of value and not a currency. But I do wish I had taken more of a flyer on it :). Fortunately I did buy a bunch of eth\n",
      "1366857486586757123 2021-03-02 15:06:34 -0500 <mcuban> @CryptoHarper What i said a couple years ago was that it wasnt a currency and didnt have any immediate utility. Unlike a banana that i could eat :). What has changed is De-Fi. Now BTC/Eth/Others can make you your own personal banker and facilitate many other types of trx Thats utility\n",
      "1366787249644445703 2021-03-02 10:27:28 -0500 <mcuban> Let me help Peter. Gold is hyped as much as Crypto. Do we really need gold jewelry? Gold can make you a ring. BTC/Eth are technologies that can make you a banker, allow friction free exchange of value and are extensible into an unlimited range of biz and personal applications\n",
      "1343603085281734666 2020-12-28 11:01:53 -0500 <mcuban> No disagreement. I love to mess with btc-twitter.  They dont want to admit it is a supply and demand play, just like every other tradeable asset.   https://t.co/HAosxBB9XR   applies to btc today like it did to stocks 16yrs ago \"Fundamentals is a word sellers use to attract buyers\"\n",
      "1343290421498155009 2020-12-27 14:19:28 -0500 <mcuban> @yungNleveraged You do realize that physical shares aren’t trading any longer. That any company could address any of these issues in many different ways and many are already addressed. And by the way, both BTC and shares are subject to the regulation\n",
      "1341770350766469121 2020-12-23 09:39:15 -0500 <mcuban> Want to spend your $BTC somewhere... Spend it with the Mavs and get a 25 percent discount for using Bitcoin !   https://t.co/De7Y5f28s8\n",
      "1340708605960609793 2020-12-20 11:20:15 -0500 <mcuban> @diveej3 We have been accepting btc for mavs tickets and merch  for YEARS.  You do realize a MAJOR reason for the move in btc,Bach, eth is the move in interest rates ? Or have you ignored the pricing moves in all other alt assets?\n",
      "1340013801178075146 2020-12-18 13:19:21 -0500 <mcuban> @AriDavidPaul @gladstein @Talk_BTC All of course is hypothetical.  But the bigger point is that IMO, any asset is worth what someone will pay for it. The change in pricing rarely reflects the underlying qualities of that asset.  Same as stocks. Get long and get loud has more impact than anything else\n",
      "1340013308469010435 2020-12-18 13:17:23 -0500 <mcuban> @AriDavidPaul @gladstein @Talk_BTC What percent of new buyers actually own btc ? They use ETFs , fractional and other means to avoid the complexities. Yes the ETF could possibly hold in street name for them. But will they ? And the supply/demand dynamics could change\n",
      "1340012369737641986 2020-12-18 13:13:39 -0500 <mcuban> @gladstein @StrictlyBidnazz @Talk_BTC Don’t agree. To a bad actor it’s a cost benefit analysis.\n",
      "1340009812457910273 2020-12-18 13:03:30 -0500 <mcuban> @gladstein @StrictlyBidnazz @Talk_BTC Again , if you can identify those who control 83% of hashing , you can influence those people in a variety of ways. If greed is good, there may be other incentives to miners.  It’s not like mining is becoming more lucrative\n",
      "1340006988940517377 2020-12-18 12:52:16 -0500 <mcuban> @ZackG1982 @gladstein @StrictlyBidnazz @Talk_BTC I stand corrected. 83pct of hashing power  decided to make the change. But that doesn’t change the point. It actually strengthens it.\n",
      "1340004603321049093 2020-12-18 12:42:48 -0500 <mcuban> @gladstein @StrictlyBidnazz @Talk_BTC This is where we disagree. Look at the 2017 agreement. When you can identify and communicate with 83% of the market cap of btc, that means you can find them and influence them and that influence may or may not go the way you want it to. That is a huge risk. Self interest &lt;&gt; Greed\n",
      "1340003475585966082 2020-12-18 12:38:19 -0500 <mcuban> @gladstein @StrictlyBidnazz @Talk_BTC Self interest and greed are not always one and the same.\n",
      "1340002920008454145 2020-12-18 12:36:06 -0500 <mcuban> @StrictlyBidnazz @gladstein @Talk_BTC Social good ? It’s the right thing to do to help others ?\n",
      "1339999528062234626 2020-12-18 12:22:38 -0500 <mcuban> @gladstein @Talk_BTC Ok Nostradamus :)\n",
      "1339997165465325568 2020-12-18 12:13:14 -0500 <mcuban> @gladstein @AriDavidPaul @Talk_BTC And you think the outcome will always be the same ?\n",
      "1339995729587269632 2020-12-18 12:07:32 -0500 <mcuban> @AriDavidPaul @gladstein @Talk_BTC If the only expected value from btc and the blockchain is financial, you would “likely” be right. However, it is not the only value.  Is there a scenario where whales and the majority of stakeholders’ interest diverge ? I think that’s inevitable\n",
      "1339987963510460423 2020-12-18 11:36:40 -0500 <mcuban> @gladstein @Talk_BTC Unless of course the majority of people who own btc decide that the 21m limit should be changed.  It is a democratic currency. Why let the HODLers benefit more than the earners\n",
      "1339983285917786115 2020-12-18 11:18:05 -0500 <mcuban> @aantonop @gladstein Ive never said it cant be used, but few are able to. And the amount of fractions of btc they earn per hr is obviously declining.  But as you make clear, PayPal, which, i know supports btc, is an alternative. Thats the point. There are alternatives available with more coming.\n",
      "1339981176593854467 2020-12-18 11:09:42 -0500 <mcuban> @gladstein @Talk_BTC It is revolutionary.  But like all other technologies, it has to compete with an unlimited number of new entrants that can learn from BTC and every crypto and do better. Maybe it does stay on top. People invested in Ether and others feel differently\n",
      "1339977071393722369 2020-12-18 10:53:24 -0500 <mcuban> @j_howe4 @BitcoinMacGyver @gladstein You ignore current and future  competition and the possible impact it can have on the range of possible btc outcomes\n",
      "1339975919805591552 2020-12-18 10:48:49 -0500 <mcuban> @JCapitalCompany @gladstein @Talk_BTC Maybe. Or maybe there will be national digital currencies with established exchanges and btc becomes worthless ?\n",
      "1339973755079192576 2020-12-18 10:40:13 -0500 <mcuban> @gladstein @Talk_BTC Doesn’t matter how you can divide it if you have to convert it to use it.  I know and understand the technical nuances of btc.  But it truly is fun to play with the zealots who think it is uniquely qualified to be anything more than possibly the most popular crypto-currency\n",
      "1339972956399820800 2020-12-18 10:37:02 -0500 <mcuban> @gladstein @JackHar10524114 @MrHodl @AlanFreestone BTC , like any non-currency asset, has its strengths and weaknesses. What is ignored is that it has hundreds of other crypto competitors that offer similar features .\n",
      "1339972516773847041 2020-12-18 10:35:18 -0500 <mcuban> @gladstein @JackHar10524114 @MrHodl @AlanFreestone Yup. Or you could send them dollars or euros. They each have varying transfer costs, but only btc has to be converted to be used and the massive fluctuations  in price makes it difficult for someone in Belarus  to plan ahead. Dollar and Euros don't typically have 10pct moves\n",
      "1339971385779761154 2020-12-18 10:30:48 -0500 <mcuban> @Talk_BTC @gladstein And every week that check buys less and less btc, doesn't it ?\n",
      "1339966831147282432 2020-12-18 10:12:42 -0500 <mcuban> @sammyboy_jr @BitcoinMacGyver @gladstein Nor do the HODLers have to sell any btc,\n",
      "1339953510553673730 2020-12-18 09:19:46 -0500 <mcuban> @jhamel It's actually late. More than 85pct of the btc that will ever be created already has been  and is being HODLed.\n",
      "1339953060458672130 2020-12-18 09:17:59 -0500 <mcuban> @JackHar10524114 @MrHodl @AlanFreestone @gladstein Or we can ignore the fact that btc is useless without first being converted to US dollars.  HODLers celebrate the price in dollars.  You have noticed this fact , right ?\n",
      "1339952223418273792 2020-12-18 09:14:39 -0500 <mcuban> @_ConnerBrown_ Spoiler alert: btc is not supposed to be like fiat currency\n",
      "1339948940779802625 2020-12-18 09:01:37 -0500 <mcuban> @Alexwashere @gladstein And they all value that effort in fiat and convert to btc. Not the other way around\n",
      "1339948144424071176 2020-12-18 08:58:27 -0500 <mcuban> @BitcoinMacGyver @gladstein So the people who have Bitcoin effectively control all the value and hoped for impact of Bitcoin ? If they hodl, the price goes up, making it harder for those who need it most to have access ?  Tell me how the person with zero savings gains value from btc ?\n",
      "[!] No more data! Scraping will stop now.\n",
      "found 0 deleted tweets in this search.\n"
     ]
    }
   ],
   "source": [
    "# Define search criteria to pull btc related tweets from Marck Cuban\n",
    "## Dates are set using trial and error since twint only returns a certain number of tweets at a time\n",
    "search_criteria = \"btc (from:mcuban) until:2021-06-03 since:2020-10-10\"\n",
    "# Configure twint instance, including writing data to a csv\n",
    "c = twint.Config()\n",
    "c.Search = search_criteria\n",
    "c.Store_csv = True\n",
    "c.Output = \"mcuban.csv\"\n",
    "\n",
    "# Run twint instance saving data to csv\n",
    "twint.run.Search(c)\n",
    "\n",
    "#Rename csv file per dates pulled from twitter, update search criteria above accordingly, and re-run twint instance"
   ]
  },
  {
   "cell_type": "code",
   "execution_count": 17,
   "id": "5dc708de",
   "metadata": {},
   "outputs": [
    {
     "name": "stdout",
     "output_type": "stream",
     "text": [
      "[!] No more data! Scraping will stop now.\n",
      "found 0 deleted tweets in this search.\n"
     ]
    }
   ],
   "source": [
    "# Define search criteria to pull btc related tweets from PlanB\n",
    "## Dates are set using trial and error since twint only returns a certain number of tweets at a time\n",
    "search_criteria = \"btc (from:100trillionUSD) until:2021-02-05 since:2020-10-10\"\n",
    "# Configure twint instance, including writing data to a csv\n",
    "c = twint.Config()\n",
    "c.Search = search_criteria\n",
    "c.Store_csv = True\n",
    "c.Output = \"PlanB.csv\"\n",
    "\n",
    "# Run twint instance saving data to csv\n",
    "twint.run.Search(c)\n",
    "\n",
    "#Rename csv file per dates pulled from twitter, update search criteria above accordingly, and re-run twint instance"
   ]
  },
  {
   "cell_type": "code",
   "execution_count": 18,
   "id": "6c5a99a0",
   "metadata": {},
   "outputs": [],
   "source": [
    "# Import pandas to manipulate data\n",
    "import pandas as pd"
   ]
  },
  {
   "cell_type": "code",
   "execution_count": 32,
   "id": "b3693fe0",
   "metadata": {},
   "outputs": [],
   "source": [
    "# Read all csv's containing btc tweets from mcuban and combine them into one dataframe\n",
    "mcuban_btc_1 = pd.read_csv('mcuban btc 05152021-12182020.csv')\n",
    "mcuban_btc_2 = pd.read_csv('mcuban btc 09172021-06032021.csv')\n",
    "mcuban_btc_tweets = pd.concat([mcuban_btc_2, mcuban_btc_1])\n",
    "# Write final dataframe to csv\n",
    "mcuban_btc_tweets.to_csv('mcuban_btc_tweets.csv', index=False)"
   ]
  },
  {
   "cell_type": "code",
   "execution_count": 34,
   "id": "8ae83375",
   "metadata": {},
   "outputs": [],
   "source": [
    "# Read all csv's containing btc tweets from PlanB and combine them into one dataframe\n",
    "planb_btc_1 = pd.read_csv('planb btc 02052021-10152020.csv')\n",
    "planb_btc_2 = pd.read_csv('planb btc 04112021-02142021.csv')\n",
    "planb_btc_3 = pd.read_csv('planb btc 09282021-04132021.csv')\n",
    "planb_btc_tweets = pd.concat([planb_btc_3, planb_btc_2, planb_btc_1])\n",
    "# Write final dataframe to csv\n",
    "planb_btc_tweets.to_csv('planb_btc_tweets.csv', index=False)"
   ]
  },
  {
   "cell_type": "code",
   "execution_count": null,
   "id": "e5b141cb",
   "metadata": {},
   "outputs": [],
   "source": []
  }
 ],
 "metadata": {
  "kernelspec": {
   "display_name": "Python 3",
   "language": "python",
   "name": "python3"
  },
  "language_info": {
   "codemirror_mode": {
    "name": "ipython",
    "version": 3
   },
   "file_extension": ".py",
   "mimetype": "text/x-python",
   "name": "python",
   "nbconvert_exporter": "python",
   "pygments_lexer": "ipython3",
   "version": "3.8.8"
  }
 },
 "nbformat": 4,
 "nbformat_minor": 5
}
